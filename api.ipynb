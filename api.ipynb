{
 "cells": [
  {
   "cell_type": "markdown",
   "metadata": {},
   "source": [
    "# API IBGE\n",
    "https://servicodados.ibge.gov.br/api/docs "
   ]
  },
  {
   "cell_type": "code",
   "execution_count": null,
   "metadata": {},
   "outputs": [],
   "source": [
    "# biblioteca Requests é utilizada para fazer interligações com outros sistemas e aplicações web.\n",
    "import requests\n",
    "import pprint #para organizar o print\n",
    "link = \"https://servicodados.ibge.gov.br/api/v3/agregados/4112/periodos/2006/variaveis/2586?localidades=N1[all]\"\n",
    "\n",
    "#A requisição é feita com requests.get() e os dados são convertidos para JSON:\n",
    "requisicao = requests.get(link)\n",
    "informacoes = requisicao.json()\n",
    "\n",
    "#Impressão de dados formatados:\n",
    "pprint.pprint(informacoes[0])#variavel - Número de estabelecimentos\n",
    "item_busca = informacoes[0]['variavel']\n",
    "\n",
    "pprint.pprint(informacoes[0]['resultados'][0]['series'])#series - ano e valores\n",
    "resultado = informacoes[0]['resultados'][0]['series']"
   ]
  },
  {
   "cell_type": "code",
   "execution_count": 5,
   "metadata": {},
   "outputs": [
    {
     "name": "stdout",
     "output_type": "stream",
     "text": [
      "Número de estabelecimentos agropecuários com suínos\n",
      "[{'localidade': {'id': '1', 'nivel': {'id': 'N1', 'nome': 'Brasil'}, 'nome': 'Brasil'}, 'serie': {'2006': '1496422'}}]\n"
     ]
    }
   ],
   "source": [
    "print(item_busca)\n",
    "print(resultado)"
   ]
  }
 ],
 "metadata": {
  "kernelspec": {
   "display_name": "Python 3",
   "language": "python",
   "name": "python3"
  },
  "language_info": {
   "codemirror_mode": {
    "name": "ipython",
    "version": 3
   },
   "file_extension": ".py",
   "mimetype": "text/x-python",
   "name": "python",
   "nbconvert_exporter": "python",
   "pygments_lexer": "ipython3",
   "version": "3.12.1"
  }
 },
 "nbformat": 4,
 "nbformat_minor": 2
}
